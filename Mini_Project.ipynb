{
  "nbformat": 4,
  "nbformat_minor": 0,
  "metadata": {
    "colab": {
      "name": "Mini Project",
      "provenance": [],
      "mount_file_id": "12HcSkhs4ekH2KeoYKQxw066sXMQzUZUM",
      "authorship_tag": "ABX9TyOfBP+xlTq/CY247R5DIDVs",
      "include_colab_link": true
    },
    "kernelspec": {
      "name": "python3",
      "display_name": "Python 3"
    },
    "language_info": {
      "name": "python"
    }
  },
  "cells": [
    {
      "cell_type": "markdown",
      "metadata": {
        "id": "view-in-github",
        "colab_type": "text"
      },
      "source": [
        "<a href=\"https://colab.research.google.com/github/GustavFredrikson/Statistical-Machine-Learning/blob/main/Mini_Project.ipynb\" target=\"_parent\"><img src=\"https://colab.research.google.com/assets/colab-badge.svg\" alt=\"Open In Colab\"/></a>"
      ]
    },
    {
      "cell_type": "code",
      "metadata": {
        "id": "_7WAqOToqgkl"
      },
      "source": [
        "def warn(*args, **kwargs):\n",
        "    pass\n",
        "import warnings\n",
        "warnings.warn = warn\n",
        "\n",
        "\n",
        "import pandas as pd\n",
        "import numpy as np\n",
        "import sklearn.model_selection as skl_ms\n",
        "import sklearn.discriminant_analysis as skl_da\n"
      ],
      "execution_count": 32,
      "outputs": []
    },
    {
      "cell_type": "code",
      "metadata": {
        "colab": {
          "base_uri": "https://localhost:8080/"
        },
        "id": "ShB9fgMZq5ym",
        "outputId": "b90514ac-7d7a-40f0-932a-a3a5c8e3a675"
      },
      "source": [
        "test = pd.read_csv(\"test.csv\")\n",
        "train = pd.read_csv(\"train.csv\")\n",
        "train.info()"
      ],
      "execution_count": 33,
      "outputs": [
        {
          "output_type": "stream",
          "name": "stdout",
          "text": [
            "<class 'pandas.core.frame.DataFrame'>\n",
            "RangeIndex: 1039 entries, 0 to 1038\n",
            "Data columns (total 14 columns):\n",
            " #   Column                                Non-Null Count  Dtype  \n",
            "---  ------                                --------------  -----  \n",
            " 0   Number words female                   1039 non-null   int64  \n",
            " 1   Total words                           1039 non-null   int64  \n",
            " 2   Number of words lead                  1039 non-null   float64\n",
            " 3   Difference in words lead and co-lead  1039 non-null   int64  \n",
            " 4   Number of male actors                 1039 non-null   int64  \n",
            " 5   Year                                  1039 non-null   int64  \n",
            " 6   Number of female actors               1039 non-null   int64  \n",
            " 7   Number words male                     1039 non-null   int64  \n",
            " 8   Gross                                 1039 non-null   float64\n",
            " 9   Mean Age Male                         1039 non-null   float64\n",
            " 10  Mean Age Female                       1039 non-null   float64\n",
            " 11  Age Lead                              1039 non-null   float64\n",
            " 12  Age Co-Lead                           1039 non-null   float64\n",
            " 13  Lead                                  1039 non-null   object \n",
            "dtypes: float64(6), int64(7), object(1)\n",
            "memory usage: 113.8+ KB\n"
          ]
        }
      ]
    },
    {
      "cell_type": "markdown",
      "metadata": {
        "id": "eVruW6mTYCH0"
      },
      "source": [
        "# Firstly using LDA and QDA with train test split 80% training 20% testing"
      ]
    },
    {
      "cell_type": "code",
      "metadata": {
        "id": "Yklmw8Q6rRRA"
      },
      "source": [
        "train_1, test_1 = skl_ms.train_test_split(train, train_size=0.8, random_state=1)\n",
        "\n",
        "y_train = train_1[\"Lead\"]\n",
        "x_train = train_1.drop(columns=[\"Lead\"])\n",
        "x_test = test_1.drop(columns=[\"Lead\"])\n",
        "y_test = test_1[\"Lead\"]"
      ],
      "execution_count": 34,
      "outputs": []
    },
    {
      "cell_type": "code",
      "metadata": {
        "colab": {
          "base_uri": "https://localhost:8080/"
        },
        "id": "NTnUpwZk5CnF",
        "outputId": "480b8f2f-18e8-4cda-a075-c8442f83e5be"
      },
      "source": [
        "model = skl_da.LinearDiscriminantAnalysis()\n",
        "preds = model.fit(x_train, y_train)\n",
        "print(f\"Using LDA: \\n Accuracy on train data: \\t {preds.score(x_train, y_train)}\")\n",
        "print(f\" Accuracy on test data: \\t {preds.score(x_test, y_test)} \\n\\n\")"
      ],
      "execution_count": 35,
      "outputs": [
        {
          "output_type": "stream",
          "name": "stdout",
          "text": [
            "Using LDA: \n",
            " Accuracy on train data: \t 0.8628158844765343\n",
            " Accuracy on test data: \t 0.8894230769230769 \n",
            "\n",
            "\n"
          ]
        }
      ]
    },
    {
      "cell_type": "code",
      "metadata": {
        "colab": {
          "base_uri": "https://localhost:8080/"
        },
        "id": "1Vvi4qBB5uC2",
        "outputId": "ed91c1de-aac0-428b-9728-55de896a04b5"
      },
      "source": [
        "model = skl_da.QuadraticDiscriminantAnalysis()\n",
        "preds = model.fit(x_train, y_train)\n",
        "\n",
        "print(f\"Using QDA: \\n Accuracy on train data: \\t {preds.score(x_train, y_train)}\")\n",
        "print(f\" Accuracy on test data: \\t {preds.score(x_test, y_test)}\")"
      ],
      "execution_count": 36,
      "outputs": [
        {
          "output_type": "stream",
          "name": "stdout",
          "text": [
            "Using QDA: \n",
            " Accuracy on train data: \t 0.8844765342960289\n",
            " Accuracy on test data: \t 0.8509615384615384\n"
          ]
        }
      ]
    },
    {
      "cell_type": "markdown",
      "metadata": {
        "id": "OjItOELzYIij"
      },
      "source": [
        "# Implement using kfold 5 folds\n",
        "\n"
      ]
    },
    {
      "cell_type": "code",
      "metadata": {
        "colab": {
          "base_uri": "https://localhost:8080/",
          "height": 317
        },
        "id": "Y4gPmSix5wIZ",
        "outputId": "2e1f7e40-fecd-4269-87ee-70ea70491d9c"
      },
      "source": [
        "import statistics\n",
        "import matplotlib.pyplot as plt\n",
        "\n",
        "X = train.drop(columns=[\"Lead\"])\n",
        "y = train[\"Lead\"]\n",
        "\n",
        "\n",
        "kf = skl_ms.KFold(n_splits=5)\n",
        "\n",
        "scores = {\"LDA\": [], \"QDA\": []}\n",
        "for train_idx, test_idx in kf.split(train):\n",
        "    x_train, x_val = X.iloc[train_idx,:], X.iloc[test_idx,:]\n",
        "    y_train, y_val = y.iloc[train_idx], y.iloc[test_idx]\n",
        "    \n",
        "    scores[\"LDA\"].append(skl_da.LinearDiscriminantAnalysis().fit(\n",
        "        x_train, y_train).score(x_val, y_val))\n",
        "    scores[\"QDA\"].append(skl_da.QuadraticDiscriminantAnalysis().fit(\n",
        "        x_train, y_train).score(x_val, y_val))\n",
        "\n",
        "print(f\"Mean LDA on test data: {round(statistics.mean(scores['LDA'])*100, 1)}%\")\n",
        "print(f\"Mean QDA on test data: {round(statistics.mean(scores['QDA'])*100, 1)}%\\n\")\n",
        "\n",
        "plt.boxplot([scores[\"LDA\"], scores[\"QDA\"]])\n",
        "plt.xticks([1,2], [\"LDA\", \"QDA\"])\n",
        "plt.show()"
      ],
      "execution_count": 37,
      "outputs": [
        {
          "output_type": "stream",
          "name": "stdout",
          "text": [
            "Mean LDA on test data: 86.8%\n",
            "Mean QDA on test data: 85.7%\n",
            "\n"
          ]
        },
        {
          "output_type": "display_data",
          "data": {
            "image/png": "[encoded data removed]",
            "text/plain": [
              "<Figure size 432x288 with 1 Axes>"
            ]
          },
          "metadata": {
            "needs_background": "light"
          }
        }
      ]
    }
  ]
}