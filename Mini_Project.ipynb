{
  "cells": [
    {
      "cell_type": "markdown",
      "metadata": {
        "colab_type": "text",
        "id": "view-in-github"
      },
      "source": [
        "<a href=\"https://colab.research.google.com/github/GustavFredrikson/Statistical-Machine-Learning/blob/main/Mini_Project.ipynb\" target=\"_parent\"><img src=\"https://colab.research.google.com/assets/colab-badge.svg\" alt=\"Open In Colab\"/></a>"
      ]
    },
    {
      "cell_type": "code",
      "execution_count": 2,
      "metadata": {
        "id": "_7WAqOToqgkl"
      },
      "outputs": [],
      "source": [
        "def warn(*args, **kwargs):\n",
        "    pass\n",
        "import warnings\n",
        "warnings.warn = warn\n",
        "\n",
        "import pandas as pd\n",
        "import numpy as np\n",
        "import statistics\n",
        "import matplotlib.pyplot as plt\n",
        "\n",
        "import sklearn.model_selection as skl_ms\n",
        "import sklearn.discriminant_analysis as skl_da\n",
        "from sklearn.preprocessing import LabelEncoder, StandardScaler\n",
        "from sklearn.model_selection import train_test_split, GridSearchCV\n",
        "from sklearn.metrics import roc_curve, auc, RocCurveDisplay\n",
        "from sklearn.ensemble import RandomForestClassifier\n",
        "from sklearn.linear_model import LogisticRegression\n",
        "from sklearn.pipeline import make_pipeline"
      ]
    },
    {
      "cell_type": "code",
      "execution_count": 3,
      "metadata": {
        "colab": {
          "base_uri": "https://localhost:8080/",
          "height": 258
        },
        "id": "ShB9fgMZq5ym",
        "outputId": "3be220b6-18bb-418a-9dfb-0bc654013379"
      },
      "outputs": [
        {
          "data": {
            "text/html": [
              "<div>\n",
              "<style scoped>\n",
              "    .dataframe tbody tr th:only-of-type {\n",
              "        vertical-align: middle;\n",
              "    }\n",
              "\n",
              "    .dataframe tbody tr th {\n",
              "        vertical-align: top;\n",
              "    }\n",
              "\n",
              "    .dataframe thead th {\n",
              "        text-align: right;\n",
              "    }\n",
              "</style>\n",
              "<table border=\"1\" class=\"dataframe\">\n",
              "  <thead>\n",
              "    <tr style=\"text-align: right;\">\n",
              "      <th></th>\n",
              "      <th>Number words female</th>\n",
              "      <th>Total words</th>\n",
              "      <th>Number of words lead</th>\n",
              "      <th>Difference in words lead and co-lead</th>\n",
              "      <th>Number of male actors</th>\n",
              "      <th>Year</th>\n",
              "      <th>Number of female actors</th>\n",
              "      <th>Number words male</th>\n",
              "      <th>Gross</th>\n",
              "      <th>Mean Age Male</th>\n",
              "      <th>Mean Age Female</th>\n",
              "      <th>Age Lead</th>\n",
              "      <th>Age Co-Lead</th>\n",
              "      <th>Lead</th>\n",
              "    </tr>\n",
              "  </thead>\n",
              "  <tbody>\n",
              "    <tr>\n",
              "      <th>0</th>\n",
              "      <td>1512</td>\n",
              "      <td>6394</td>\n",
              "      <td>2251.0</td>\n",
              "      <td>343</td>\n",
              "      <td>2</td>\n",
              "      <td>1995</td>\n",
              "      <td>5</td>\n",
              "      <td>2631</td>\n",
              "      <td>142.0</td>\n",
              "      <td>51.500000</td>\n",
              "      <td>42.333333</td>\n",
              "      <td>46.0</td>\n",
              "      <td>65.0</td>\n",
              "      <td>Female</td>\n",
              "    </tr>\n",
              "    <tr>\n",
              "      <th>1</th>\n",
              "      <td>1524</td>\n",
              "      <td>8780</td>\n",
              "      <td>2020.0</td>\n",
              "      <td>1219</td>\n",
              "      <td>9</td>\n",
              "      <td>2001</td>\n",
              "      <td>4</td>\n",
              "      <td>5236</td>\n",
              "      <td>37.0</td>\n",
              "      <td>39.125000</td>\n",
              "      <td>29.333333</td>\n",
              "      <td>58.0</td>\n",
              "      <td>34.0</td>\n",
              "      <td>Male</td>\n",
              "    </tr>\n",
              "    <tr>\n",
              "      <th>2</th>\n",
              "      <td>155</td>\n",
              "      <td>4176</td>\n",
              "      <td>942.0</td>\n",
              "      <td>787</td>\n",
              "      <td>7</td>\n",
              "      <td>1968</td>\n",
              "      <td>1</td>\n",
              "      <td>3079</td>\n",
              "      <td>376.0</td>\n",
              "      <td>42.500000</td>\n",
              "      <td>37.000000</td>\n",
              "      <td>46.0</td>\n",
              "      <td>37.0</td>\n",
              "      <td>Male</td>\n",
              "    </tr>\n",
              "    <tr>\n",
              "      <th>3</th>\n",
              "      <td>1073</td>\n",
              "      <td>9855</td>\n",
              "      <td>3440.0</td>\n",
              "      <td>2623</td>\n",
              "      <td>12</td>\n",
              "      <td>2002</td>\n",
              "      <td>2</td>\n",
              "      <td>5342</td>\n",
              "      <td>19.0</td>\n",
              "      <td>35.222222</td>\n",
              "      <td>21.500000</td>\n",
              "      <td>33.0</td>\n",
              "      <td>23.0</td>\n",
              "      <td>Male</td>\n",
              "    </tr>\n",
              "    <tr>\n",
              "      <th>4</th>\n",
              "      <td>1317</td>\n",
              "      <td>7688</td>\n",
              "      <td>3835.0</td>\n",
              "      <td>3149</td>\n",
              "      <td>8</td>\n",
              "      <td>1988</td>\n",
              "      <td>4</td>\n",
              "      <td>2536</td>\n",
              "      <td>40.0</td>\n",
              "      <td>45.250000</td>\n",
              "      <td>45.000000</td>\n",
              "      <td>36.0</td>\n",
              "      <td>39.0</td>\n",
              "      <td>Male</td>\n",
              "    </tr>\n",
              "  </tbody>\n",
              "</table>\n",
              "</div>"
            ],
            "text/plain": [
              "   Number words female  Total words  Number of words lead  \\\n",
              "0                 1512         6394                2251.0   \n",
              "1                 1524         8780                2020.0   \n",
              "2                  155         4176                 942.0   \n",
              "3                 1073         9855                3440.0   \n",
              "4                 1317         7688                3835.0   \n",
              "\n",
              "   Difference in words lead and co-lead  Number of male actors  Year  \\\n",
              "0                                   343                      2  1995   \n",
              "1                                  1219                      9  2001   \n",
              "2                                   787                      7  1968   \n",
              "3                                  2623                     12  2002   \n",
              "4                                  3149                      8  1988   \n",
              "\n",
              "   Number of female actors  Number words male  Gross  Mean Age Male  \\\n",
              "0                        5               2631  142.0      51.500000   \n",
              "1                        4               5236   37.0      39.125000   \n",
              "2                        1               3079  376.0      42.500000   \n",
              "3                        2               5342   19.0      35.222222   \n",
              "4                        4               2536   40.0      45.250000   \n",
              "\n",
              "   Mean Age Female  Age Lead  Age Co-Lead    Lead  \n",
              "0        42.333333      46.0         65.0  Female  \n",
              "1        29.333333      58.0         34.0    Male  \n",
              "2        37.000000      46.0         37.0    Male  \n",
              "3        21.500000      33.0         23.0    Male  \n",
              "4        45.000000      36.0         39.0    Male  "
            ]
          },
          "execution_count": 3,
          "metadata": {},
          "output_type": "execute_result"
        }
      ],
      "source": [
        "test = pd.read_csv(\"test.csv\")\n",
        "train = pd.read_csv(\"train.csv\")\n",
        "\n",
        "train.head()"
      ]
    },
    {
      "cell_type": "markdown",
      "metadata": {
        "id": "eVruW6mTYCH0"
      },
      "source": [
        "# Firstly using LDA and QDA with train test split 80% training 20% testing"
      ]
    },
    {
      "cell_type": "code",
      "execution_count": 4,
      "metadata": {
        "id": "Yklmw8Q6rRRA"
      },
      "outputs": [],
      "source": [
        "train_1, test_1 = skl_ms.train_test_split(train, train_size=0.8, random_state=1)\n",
        "\n",
        "y_train = train_1[\"Lead\"]\n",
        "x_train = train_1.drop(columns=[\"Lead\"])\n",
        "x_test = test_1.drop(columns=[\"Lead\"])\n",
        "y_test = test_1[\"Lead\"]"
      ]
    },
    {
      "cell_type": "code",
      "execution_count": 5,
      "metadata": {
        "colab": {
          "base_uri": "https://localhost:8080/"
        },
        "id": "NTnUpwZk5CnF",
        "outputId": "c3afad29-9da2-4054-ab97-eb0d307e038b"
      },
      "outputs": [
        {
          "name": "stdout",
          "output_type": "stream",
          "text": [
            "Using LDA: \n",
            " Accuracy on train data: \t 0.8628158844765343\n",
            " Accuracy on test data: \t 0.8894230769230769 \n",
            "\n",
            "\n"
          ]
        }
      ],
      "source": [
        "model = skl_da.LinearDiscriminantAnalysis()\n",
        "preds = model.fit(x_train, y_train)\n",
        "print(f\"Using LDA: \\n Accuracy on train data: \\t {preds.score(x_train, y_train)}\")\n",
        "print(f\" Accuracy on test data: \\t {preds.score(x_test, y_test)} \\n\\n\")"
      ]
    },
    {
      "cell_type": "code",
      "execution_count": 6,
      "metadata": {
        "colab": {
          "base_uri": "https://localhost:8080/"
        },
        "id": "1Vvi4qBB5uC2",
        "outputId": "9c5a21cb-2b27-4e41-f0d9-5143a542743f"
      },
      "outputs": [
        {
          "name": "stdout",
          "output_type": "stream",
          "text": [
            "Using QDA: \n",
            " Accuracy on train data: \t 0.9049338146811071\n",
            " Accuracy on test data: \t 0.875\n"
          ]
        }
      ],
      "source": [
        "model = skl_da.QuadraticDiscriminantAnalysis()\n",
        "preds = model.fit(x_train, y_train)\n",
        "\n",
        "print(f\"Using QDA: \\n Accuracy on train data: \\t {preds.score(x_train, y_train)}\")\n",
        "print(f\" Accuracy on test data: \\t {preds.score(x_test, y_test)}\")"
      ]
    },
    {
      "cell_type": "markdown",
      "metadata": {
        "id": "OjItOELzYIij"
      },
      "source": [
        "# Implement using kfold 5 folds\n",
        "\n"
      ]
    },
    {
      "cell_type": "code",
      "execution_count": 7,
      "metadata": {
        "colab": {
          "base_uri": "https://localhost:8080/",
          "height": 317
        },
        "id": "Y4gPmSix5wIZ",
        "outputId": "edbfc1f7-bb91-4ffb-a9cb-78a55d2159c0"
      },
      "outputs": [
        {
          "name": "stdout",
          "output_type": "stream",
          "text": [
            "Mean LDA on test data: 86.8%\n",
            "Mean QDA on test data: 84.5%\n",
            "\n"
          ]
        },
        {
          "data": {
            "image/png": "[encoded data removed]",
            "text/plain": [
              "<Figure size 432x288 with 1 Axes>"
            ]
          },
          "metadata": {
            "needs_background": "light"
          },
          "output_type": "display_data"
        }
      ],
      "source": [
        "X = train.drop(columns=[\"Lead\"])\n",
        "y = train[\"Lead\"]\n",
        "\n",
        "kf = skl_ms.KFold(n_splits=5)\n",
        "\n",
        "scores = {\"LDA\": [], \"QDA\": []}\n",
        "for train_idx, test_idx in kf.split(train):\n",
        "    x_train, x_val = X.iloc[train_idx,:], X.iloc[test_idx,:]\n",
        "    y_train, y_val = y.iloc[train_idx], y.iloc[test_idx]\n",
        "\n",
        "    scores[\"LDA\"].append(skl_da.LinearDiscriminantAnalysis().fit(\n",
        "        x_train, y_train).score(x_val, y_val))\n",
        "    scores[\"QDA\"].append(skl_da.QuadraticDiscriminantAnalysis().fit(\n",
        "        x_train, y_train).score(x_val, y_val))\n",
        "\n",
        "print(f\"Mean LDA on test data: {round(statistics.mean(scores['LDA'])*100, 1)}%\")\n",
        "print(f\"Mean QDA on test data: {round(statistics.mean(scores['QDA'])*100, 1)}%\\n\")\n",
        "\n",
        "plt.boxplot([scores[\"LDA\"], scores[\"QDA\"]])\n",
        "plt.xticks([1,2], [\"LDA\", \"QDA\"])\n",
        "plt.ylabel(\"Accuracy in %\")\n",
        "plt.savefig('Boxplot LDA QDA.svg', format='svg')\n",
        "# plt.show()"
      ]
    },
    {
      "cell_type": "markdown",
      "metadata": {
        "id": "dL_BrpVZxw8z"
      },
      "source": [
        "# Optimize Parameters"
      ]
    },
    {
      "cell_type": "code",
      "execution_count": 8,
      "metadata": {
        "id": "AWHEjpY8uFAf"
      },
      "outputs": [],
      "source": [
        "run_opti = False\n",
        "if run_opti is True:\n",
        "    X = train.drop(columns=[\"Lead\"])\n",
        "    y = train[\"Lead\"]\n",
        "\n",
        "    kf = skl_ms.KFold(n_splits=5) # 2 for regular test/train split\n",
        "\n",
        "    solver = [\"svd\", \"lsqr\", \"eigen\"]\n",
        "    shrinkage = [\"auto\", None]\n",
        "    store_covariance = [True, False]\n",
        "    tol = [float(x) for x in np.linspace(start=1e-5, stop=1, num=20)]\n",
        "    random_grid = {\n",
        "        'solver': solver,\n",
        "        'shrinkage': shrinkage,\n",
        "        'store_covariance': store_covariance,\n",
        "        'tol': tol\n",
        "    }\n",
        "\n",
        "    rd_gridQDA = {\n",
        "        'tol': tol\n",
        "    }\n",
        "\n",
        "    scores = {\"LDA\": [], \"QDA\": []}\n",
        "    for train_idx, test_idx in kf.split(train):\n",
        "        x_train, x_val = X.iloc[train_idx,:], X.iloc[test_idx,:]\n",
        "        y_train, y_val = y.iloc[train_idx], y.iloc[test_idx]\n",
        "\n",
        "        LDA = skl_da.LinearDiscriminantAnalysis()\n",
        "        LDA_grid = GridSearchCV(estimator=LDA, param_grid=random_grid, cv=3, n_jobs=-1)\n",
        "        LDA_grid.fit(x_train, y_train)\n",
        "        # print('\\nLDA\\n', LDA_grid.best_params_)\n",
        "        scores[\"LDA\"].append(LDA_grid.score(x_val, y_val))\n",
        "\n",
        "        QDA = skl_da.QuadraticDiscriminantAnalysis()\n",
        "        QDA_grid = GridSearchCV(estimator=QDA, param_grid=rd_gridQDA, cv=3, n_jobs=-1)\n",
        "        QDA_grid.fit(x_train, y_train)\n",
        "        # print('\\nQDA:\\n', QDA_grid.best_params_)\n",
        "        scores[\"QDA\"].append(QDA_grid.score(x_val, y_val))\n",
        "\n",
        "    print(f\"Mean LDA on test data: {round(statistics.mean(scores['LDA'])*100, 1)}%\")\n",
        "    print(f\"Mean QDA on test data: {round(statistics.mean(scores['QDA'])*100, 1)}%\\n\")\n",
        "\n",
        "    plt.boxplot([scores[\"LDA\"], scores[\"QDA\"]])\n",
        "    plt.xticks([1,2], [\"LDA\", \"QDA\"])\n",
        "    plt.show()"
      ]
    },
    {
      "cell_type": "markdown",
      "metadata": {
        "id": "mpNT9yIzx3gl"
      },
      "source": [
        "Did not give any better result..."
      ]
    },
    {
      "cell_type": "markdown",
      "metadata": {
        "id": "fPAab9jS_9Ld"
      },
      "source": [
        "# Feature Importance"
      ]
    },
    {
      "cell_type": "code",
      "execution_count": 9,
      "metadata": {
        "colab": {
          "base_uri": "https://localhost:8080/",
          "height": 401
        },
        "id": "aLf-ZYFctqnq",
        "outputId": "e82d340f-0133-451b-9985-8fa3ba0828e2"
      },
      "outputs": [
        {
          "data": {
            "image/png": "[encoded data removed]",
            "text/plain": [
              "<Figure size 432x288 with 1 Axes>"
            ]
          },
          "metadata": {
            "needs_background": "light"
          },
          "output_type": "display_data"
        },
        {
          "name": "stdout",
          "output_type": "stream",
          "text": [
            "rocauc = (array([0.        , 0.56097561, 1.        ]), array([0.        , 0.97005988, 1.        ]), array([2, 1, 0]))\n",
            "Variable used: Total words\n",
            "Using LDA: \n",
            " Accuracy on train data: \t 0.9963898916967509\n",
            " Accuracy on test data: \t 0.8653846153846154 \n",
            "\n",
            "\n"
          ]
        }
      ],
      "source": [
        "le = LabelEncoder()\n",
        "\n",
        "test = pd.read_csv(\"test.csv\")\n",
        "train = pd.read_csv(\"train.csv\")\n",
        "\n",
        "train_1, test_1 = skl_ms.train_test_split(train, train_size=0.8, random_state=1)\n",
        "\n",
        "y_train = train_1[\"Lead\"]\n",
        "x_train = train_1.drop(columns=[\"Lead\"])\n",
        "x_test = test_1.drop(columns=[\"Lead\"])\n",
        "y_test = test_1[\"Lead\"]\n",
        "\n",
        "le.fit(y_train)\n",
        "y_train = le.transform(y_train)\n",
        "y_test = le.transform(y_test)\n",
        "\n",
        "i = 1\n",
        "\n",
        "cols = x_train.columns\n",
        "all = cols\n",
        "\n",
        "x_val = x_test[cols]\n",
        "X = x_train[cols]\n",
        "y = y_train\n",
        "\n",
        "model = RandomForestClassifier(bootstrap=False, max_depth=110, max_features='auto',\n",
        "                               min_samples_leaf=2, min_samples_split=10, n_estimators=800)\n",
        "model.fit(X, y)\n",
        "\n",
        "fpr, tpr, thresholds = roc_curve(model.predict(X), y)\n",
        "roc_auc = auc(fpr, tpr)\n",
        "\n",
        "display = RocCurveDisplay(fpr=fpr, tpr=tpr, roc_auc=roc_auc)\n",
        "display.plot()\n",
        "plt.show()\n",
        "\n",
        "print(f\"rocauc = {roc_curve(y_test, model.predict(x_val))}\")\n",
        "\n",
        "print(f\"Variable used: {cols[i]}\")\n",
        "print(f\"Using LDA: \\n Accuracy on train data: \\t {model.score(X,y)}\")\n",
        "print(f\" Accuracy on test data: \\t {model.score(x_val, y_test)} \\n\\n\")"
      ]
    },
    {
      "cell_type": "code",
      "execution_count": 10,
      "metadata": {
        "colab": {
          "base_uri": "https://localhost:8080/"
        },
        "id": "zpTSJjw6PC4B",
        "outputId": "2131f55b-153c-4380-c696-57f813757609"
      },
      "outputs": [
        {
          "name": "stdout",
          "output_type": "stream",
          "text": [
            "Feature importance: \n",
            "Most to least important features:\n",
            "\n",
            "Feature: Number words female, importance 0.162\n",
            "Feature: Number of female actors, importance 0.126\n",
            "Feature: Age Co-Lead, importance 0.099\n",
            "Feature: Age Lead, importance 0.099\n",
            "Feature: Difference in words lead and co-lead, importance 0.099\n",
            "Feature: Number of male actors, importance 0.079\n",
            "Feature: Number words male, importance 0.071\n",
            "Feature: Mean Age Female, importance 0.052\n",
            "Feature: Number of words lead, importance 0.051\n",
            "Feature: Total words, importance 0.05\n",
            "Feature: Mean Age Male, importance 0.048\n",
            "Feature: Gross, importance 0.032\n",
            "Feature: Year, importance 0.03\n"
          ]
        }
      ],
      "source": [
        "model = RandomForestClassifier(bootstrap=False, max_depth=110, max_features='auto',\n",
        "                            min_samples_leaf=2, min_samples_split=10, n_estimators=800)\n",
        "model.fit(X, y)\n",
        "\n",
        "print(\"Feature importance: \")\n",
        "\n",
        "lst = list(model.feature_importances_)\n",
        "lst.sort(reverse=True)\n",
        "unsorted = {model.feature_importances_[i]: all[i] for i in range(len(all))}\n",
        "sorted = {unsorted[i]: i for i in lst}\n",
        "\n",
        "print(\"Most to least important features:\\n\")\n",
        "for key, val in sorted.items():\n",
        "    print(f\"Feature: {key}, importance {round(val, 3)}\")"
      ]
    },
    {
      "cell_type": "markdown",
      "metadata": {
        "id": "Am2gKtG2RE8X"
      },
      "source": [
        "### Get coefficients of logistic regression"
      ]
    },
    {
      "cell_type": "code",
      "execution_count": 11,
      "metadata": {
        "colab": {
          "base_uri": "https://localhost:8080/"
        },
        "id": "CVwhXFYeRCAa",
        "outputId": "2ac6b3cf-4d0c-49b9-e39f-9f3216a043e5"
      },
      "outputs": [
        {
          "name": "stdout",
          "output_type": "stream",
          "text": [
            "0.8028846153846154\n"
          ]
        },
        {
          "data": {
            "text/plain": [
              "array([[ 0.14504212,  0.07258681, -0.17842515,  0.0017353 ]])"
            ]
          },
          "execution_count": 11,
          "metadata": {},
          "output_type": "execute_result"
        }
      ],
      "source": [
        "test = pd.read_csv(\"test.csv\")\n",
        "train = pd.read_csv(\"train.csv\")\n",
        "\n",
        "train_1, test_1 = skl_ms.train_test_split(train, train_size=0.8, random_state=1)\n",
        "\n",
        "y_train = train_1[\"Lead\"]\n",
        "x_train = train_1.drop(columns=[\"Lead\"])\n",
        "x_test = test_1.drop(columns=[\"Lead\"])\n",
        "y_test = test_1[\"Lead\"]\n",
        "\n",
        "le.fit(y_train)\n",
        "y_train = le.transform(y_train)\n",
        "y_test = le.transform(y_test)\n",
        "\n",
        "all = [\"Number words female\", \"Number words male\", \"Year\", \"Gross\"]\n",
        "i = 1\n",
        "cols = all\n",
        "\n",
        "x_val = x_test[cols]\n",
        "X = x_train[cols]\n",
        "y = y_train\n",
        "\n",
        "pipe = make_pipeline(StandardScaler(),LogisticRegression())\n",
        "pipe.fit(X,y)\n",
        "\n",
        "print(pipe.score(x_val,y_test))\n",
        "classifier = pipe.named_steps['logisticregression']\n",
        "classifier.coef_"
      ]
    },
    {
      "cell_type": "code",
      "execution_count": 12,
      "metadata": {
        "colab": {
          "base_uri": "https://localhost:8080/",
          "height": 317
        },
        "id": "_mwmX2vnJ3aK",
        "outputId": "66071163-0c0d-4abb-e398-73b4ebdea300"
      },
      "outputs": [
        {
          "name": "stdout",
          "output_type": "stream",
          "text": [
            "Mean LDA on test data: 86.7%\n",
            "Mean QDA on test data: 89.6%\n",
            "\n"
          ]
        },
        {
          "data": {
            "image/png": "[encoded data removed]",
            "text/plain": [
              "<Figure size 432x288 with 1 Axes>"
            ]
          },
          "metadata": {
            "needs_background": "light"
          },
          "output_type": "display_data"
        }
      ],
      "source": [
        "X = train.drop(columns=[\"Lead\", \"Gross\",\"Year\",\"Total words\"])\n",
        "y = train[\"Lead\"]\n",
        "\n",
        "kf = skl_ms.KFold(n_splits=5)\n",
        "\n",
        "scores = {\"LDA\": [], \"QDA\": []}\n",
        "for train_idx, test_idx in kf.split(train):\n",
        "    x_train, x_val = X.iloc[train_idx,:], X.iloc[test_idx,:]\n",
        "    y_train, y_val = y.iloc[train_idx], y.iloc[test_idx]\n",
        "\n",
        "    scores[\"LDA\"].append(skl_da.LinearDiscriminantAnalysis().fit(\n",
        "        x_train, y_train).score(x_val, y_val))\n",
        "    scores[\"QDA\"].append(skl_da.QuadraticDiscriminantAnalysis().fit(\n",
        "        x_train, y_train).score(x_val, y_val))\n",
        "\n",
        "print(f\"Mean LDA on test data: {round(statistics.mean(scores['LDA'])*100, 1)}%\")\n",
        "print(f\"Mean QDA on test data: {round(statistics.mean(scores['QDA'])*100, 1)}%\\n\")\n",
        "\n",
        "plt.boxplot([scores[\"LDA\"], scores[\"QDA\"]])\n",
        "plt.xticks([1,2], [\"LDA\", \"QDA\"])\n",
        "plt.ylabel(\"Accuracy in %\")\n",
        "plt.savefig('Boxplot LDA QDA.svg', format='svg')\n",
        "# plt.show()"
      ]
    },
    {
      "cell_type": "code",
      "execution_count": null,
      "metadata": {
        "id": "0JxuQ6RX5RMy"
      },
      "outputs": [],
      "source": []
    }
  ],
  "metadata": {
    "colab": {
      "authorship_tag": "ABX9TyPT6B4KpWlvZznbavMTZnRI",
      "include_colab_link": true,
      "mount_file_id": "12HcSkhs4ekH2KeoYKQxw066sXMQzUZUM",
      "name": "Mini Project",
      "provenance": []
    },
    "kernelspec": {
      "display_name": "Python 3",
      "name": "python3"
    },
    "language_info": {
      "codemirror_mode": {
        "name": "ipython",
        "version": 3
      },
      "file_extension": ".py",
      "mimetype": "text/x-python",
      "name": "python",
      "nbconvert_exporter": "python",
      "pygments_lexer": "ipython3",
      "version": "3.8.12"
    }
  },
  "nbformat": 4,
  "nbformat_minor": 0
}
