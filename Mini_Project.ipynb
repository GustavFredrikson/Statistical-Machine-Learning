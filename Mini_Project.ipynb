{
  "nbformat": 4,
  "nbformat_minor": 0,
  "metadata": {
    "colab": {
      "name": "Mini Project",
      "provenance": [],
      "mount_file_id": "12HcSkhs4ekH2KeoYKQxw066sXMQzUZUM",
      "authorship_tag": "ABX9TyMwOaJx7EMDHf97YHUgkg1T",
      "include_colab_link": true
    },
    "kernelspec": {
      "name": "python3",
      "display_name": "Python 3"
    },
    "language_info": {
      "name": "python"
    }
  },
  "cells": [
    {
      "cell_type": "markdown",
      "metadata": {
        "id": "view-in-github",
        "colab_type": "text"
      },
      "source": [
        "<a href=\"https://colab.research.google.com/github/GustavFredrikson/Statistical-Machine-Learning/blob/main/Mini_Project.ipynb\" target=\"_parent\"><img src=\"https://colab.research.google.com/assets/colab-badge.svg\" alt=\"Open In Colab\"/></a>"
      ]
    },
    {
      "cell_type": "code",
      "metadata": {
        "id": "_7WAqOToqgkl"
      },
      "source": [
        "def warn(*args, **kwargs):\n",
        "    pass\n",
        "import warnings\n",
        "warnings.warn = warn\n",
        "\n",
        "import pandas as pd\n",
        "import numpy as np\n",
        "import statistics\n",
        "import matplotlib.pyplot as plt\n",
        "\n",
        "import sklearn.model_selection as skl_ms\n",
        "import sklearn.discriminant_analysis as skl_da\n",
        "from sklearn.preprocessing import LabelEncoder\n",
        "from sklearn.model_selection import train_test_split\n",
        "from sklearn.model_selection import GridSearchCV"
      ],
      "execution_count": 39,
      "outputs": []
    },
    {
      "cell_type": "code",
      "metadata": {
        "colab": {
          "base_uri": "https://localhost:8080/",
          "height": 258
        },
        "id": "ShB9fgMZq5ym",
        "outputId": "cbcbdd12-d93c-4880-a99c-eb81ea527150"
      },
      "source": [
        "test = pd.read_csv(\"test.csv\")\n",
        "train = pd.read_csv(\"train.csv\")\n",
        "\n",
        "train.head()"
      ],
      "execution_count": 40,
      "outputs": [
        {
          "output_type": "execute_result",
          "data": {
            "text/html": [
              "<div>\n",
              "<style scoped>\n",
              "    .dataframe tbody tr th:only-of-type {\n",
              "        vertical-align: middle;\n",
              "    }\n",
              "\n",
              "    .dataframe tbody tr th {\n",
              "        vertical-align: top;\n",
              "    }\n",
              "\n",
              "    .dataframe thead th {\n",
              "        text-align: right;\n",
              "    }\n",
              "</style>\n",
              "<table border=\"1\" class=\"dataframe\">\n",
              "  <thead>\n",
              "    <tr style=\"text-align: right;\">\n",
              "      <th></th>\n",
              "      <th>Number words female</th>\n",
              "      <th>Total words</th>\n",
              "      <th>Number of words lead</th>\n",
              "      <th>Difference in words lead and co-lead</th>\n",
              "      <th>Number of male actors</th>\n",
              "      <th>Year</th>\n",
              "      <th>Number of female actors</th>\n",
              "      <th>Number words male</th>\n",
              "      <th>Gross</th>\n",
              "      <th>Mean Age Male</th>\n",
              "      <th>Mean Age Female</th>\n",
              "      <th>Age Lead</th>\n",
              "      <th>Age Co-Lead</th>\n",
              "      <th>Lead</th>\n",
              "    </tr>\n",
              "  </thead>\n",
              "  <tbody>\n",
              "    <tr>\n",
              "      <th>0</th>\n",
              "      <td>1512</td>\n",
              "      <td>6394</td>\n",
              "      <td>2251.0</td>\n",
              "      <td>343</td>\n",
              "      <td>2</td>\n",
              "      <td>1995</td>\n",
              "      <td>5</td>\n",
              "      <td>2631</td>\n",
              "      <td>142.0</td>\n",
              "      <td>51.500000</td>\n",
              "      <td>42.333333</td>\n",
              "      <td>46.0</td>\n",
              "      <td>65.0</td>\n",
              "      <td>Female</td>\n",
              "    </tr>\n",
              "    <tr>\n",
              "      <th>1</th>\n",
              "      <td>1524</td>\n",
              "      <td>8780</td>\n",
              "      <td>2020.0</td>\n",
              "      <td>1219</td>\n",
              "      <td>9</td>\n",
              "      <td>2001</td>\n",
              "      <td>4</td>\n",
              "      <td>5236</td>\n",
              "      <td>37.0</td>\n",
              "      <td>39.125000</td>\n",
              "      <td>29.333333</td>\n",
              "      <td>58.0</td>\n",
              "      <td>34.0</td>\n",
              "      <td>Male</td>\n",
              "    </tr>\n",
              "    <tr>\n",
              "      <th>2</th>\n",
              "      <td>155</td>\n",
              "      <td>4176</td>\n",
              "      <td>942.0</td>\n",
              "      <td>787</td>\n",
              "      <td>7</td>\n",
              "      <td>1968</td>\n",
              "      <td>1</td>\n",
              "      <td>3079</td>\n",
              "      <td>376.0</td>\n",
              "      <td>42.500000</td>\n",
              "      <td>37.000000</td>\n",
              "      <td>46.0</td>\n",
              "      <td>37.0</td>\n",
              "      <td>Male</td>\n",
              "    </tr>\n",
              "    <tr>\n",
              "      <th>3</th>\n",
              "      <td>1073</td>\n",
              "      <td>9855</td>\n",
              "      <td>3440.0</td>\n",
              "      <td>2623</td>\n",
              "      <td>12</td>\n",
              "      <td>2002</td>\n",
              "      <td>2</td>\n",
              "      <td>5342</td>\n",
              "      <td>19.0</td>\n",
              "      <td>35.222222</td>\n",
              "      <td>21.500000</td>\n",
              "      <td>33.0</td>\n",
              "      <td>23.0</td>\n",
              "      <td>Male</td>\n",
              "    </tr>\n",
              "    <tr>\n",
              "      <th>4</th>\n",
              "      <td>1317</td>\n",
              "      <td>7688</td>\n",
              "      <td>3835.0</td>\n",
              "      <td>3149</td>\n",
              "      <td>8</td>\n",
              "      <td>1988</td>\n",
              "      <td>4</td>\n",
              "      <td>2536</td>\n",
              "      <td>40.0</td>\n",
              "      <td>45.250000</td>\n",
              "      <td>45.000000</td>\n",
              "      <td>36.0</td>\n",
              "      <td>39.0</td>\n",
              "      <td>Male</td>\n",
              "    </tr>\n",
              "  </tbody>\n",
              "</table>\n",
              "</div>"
            ],
            "text/plain": [
              "   Number words female  Total words  ...  Age Co-Lead    Lead\n",
              "0                 1512         6394  ...         65.0  Female\n",
              "1                 1524         8780  ...         34.0    Male\n",
              "2                  155         4176  ...         37.0    Male\n",
              "3                 1073         9855  ...         23.0    Male\n",
              "4                 1317         7688  ...         39.0    Male\n",
              "\n",
              "[5 rows x 14 columns]"
            ]
          },
          "metadata": {},
          "execution_count": 40
        }
      ]
    },
    {
      "cell_type": "markdown",
      "metadata": {
        "id": "eVruW6mTYCH0"
      },
      "source": [
        "# Firstly using LDA and QDA with train test split 80% training 20% testing"
      ]
    },
    {
      "cell_type": "code",
      "metadata": {
        "id": "Yklmw8Q6rRRA"
      },
      "source": [
        "train_1, test_1 = skl_ms.train_test_split(train, train_size=0.8, random_state=1)\n",
        "\n",
        "y_train = train_1[\"Lead\"]\n",
        "x_train = train_1.drop(columns=[\"Lead\"])\n",
        "x_test = test_1.drop(columns=[\"Lead\"])\n",
        "y_test = test_1[\"Lead\"]"
      ],
      "execution_count": 41,
      "outputs": []
    },
    {
      "cell_type": "code",
      "metadata": {
        "colab": {
          "base_uri": "https://localhost:8080/"
        },
        "id": "NTnUpwZk5CnF",
        "outputId": "2dfa68ee-b840-402a-9427-3739fbe17220"
      },
      "source": [
        "model = skl_da.LinearDiscriminantAnalysis()\n",
        "preds = model.fit(x_train, y_train)\n",
        "print(f\"Using LDA: \\n Accuracy on train data: \\t {preds.score(x_train, y_train)}\")\n",
        "print(f\" Accuracy on test data: \\t {preds.score(x_test, y_test)} \\n\\n\")"
      ],
      "execution_count": 42,
      "outputs": [
        {
          "output_type": "stream",
          "name": "stdout",
          "text": [
            "Using LDA: \n",
            " Accuracy on train data: \t 0.8628158844765343\n",
            " Accuracy on test data: \t 0.8894230769230769 \n",
            "\n",
            "\n"
          ]
        }
      ]
    },
    {
      "cell_type": "code",
      "metadata": {
        "colab": {
          "base_uri": "https://localhost:8080/"
        },
        "id": "1Vvi4qBB5uC2",
        "outputId": "f8e6f4c4-9586-4f5b-c6f7-6b1c1a0ed634"
      },
      "source": [
        "model = skl_da.QuadraticDiscriminantAnalysis()\n",
        "preds = model.fit(x_train, y_train)\n",
        "\n",
        "print(f\"Using QDA: \\n Accuracy on train data: \\t {preds.score(x_train, y_train)}\")\n",
        "print(f\" Accuracy on test data: \\t {preds.score(x_test, y_test)}\")"
      ],
      "execution_count": 43,
      "outputs": [
        {
          "output_type": "stream",
          "name": "stdout",
          "text": [
            "Using QDA: \n",
            " Accuracy on train data: \t 0.8844765342960289\n",
            " Accuracy on test data: \t 0.8509615384615384\n"
          ]
        }
      ]
    },
    {
      "cell_type": "markdown",
      "metadata": {
        "id": "OjItOELzYIij"
      },
      "source": [
        "# Implement using kfold 5 folds\n",
        "\n"
      ]
    },
    {
      "cell_type": "code",
      "metadata": {
        "colab": {
          "base_uri": "https://localhost:8080/",
          "height": 317
        },
        "id": "Y4gPmSix5wIZ",
        "outputId": "b32e98e2-fae1-4923-815b-d405ada73a35"
      },
      "source": [
        "X = train.drop(columns=[\"Lead\"])\n",
        "y = train[\"Lead\"]\n",
        "\n",
        "kf = skl_ms.KFold(n_splits=5)\n",
        "\n",
        "scores = {\"LDA\": [], \"QDA\": []}\n",
        "for train_idx, test_idx in kf.split(train):\n",
        "    x_train, x_val = X.iloc[train_idx,:], X.iloc[test_idx,:]\n",
        "    y_train, y_val = y.iloc[train_idx], y.iloc[test_idx]\n",
        "\n",
        "    scores[\"LDA\"].append(skl_da.LinearDiscriminantAnalysis().fit(\n",
        "        x_train, y_train).score(x_val, y_val))\n",
        "    scores[\"QDA\"].append(skl_da.QuadraticDiscriminantAnalysis().fit(\n",
        "        x_train, y_train).score(x_val, y_val))\n",
        "\n",
        "print(f\"Mean LDA on test data: {round(statistics.mean(scores['LDA'])*100, 1)}%\")\n",
        "print(f\"Mean QDA on test data: {round(statistics.mean(scores['QDA'])*100, 1)}%\\n\")\n",
        "\n",
        "plt.boxplot([scores[\"LDA\"], scores[\"QDA\"]])\n",
        "plt.xticks([1,2], [\"LDA\", \"QDA\"])\n",
        "plt.show()"
      ],
      "execution_count": 44,
      "outputs": [
        {
          "output_type": "stream",
          "name": "stdout",
          "text": [
            "Mean LDA on test data: 86.8%\n",
            "Mean QDA on test data: 85.7%\n",
            "\n"
          ]
        },
        {
          "output_type": "display_data",
          "data": {
            "image/png": "[encoded data removed]",
            "text/plain": [
              "<Figure size 432x288 with 1 Axes>"
            ]
          },
          "metadata": {
            "needs_background": "light"
          }
        }
      ]
    },
    {
      "cell_type": "markdown",
      "metadata": {
        "id": "dL_BrpVZxw8z"
      },
      "source": [
        "# Optimize Parameters"
      ]
    },
    {
      "cell_type": "code",
      "metadata": {
        "colab": {
          "base_uri": "https://localhost:8080/",
          "height": 317
        },
        "id": "AWHEjpY8uFAf",
        "outputId": "28a57039-26b2-4c03-d230-9d4aa0a11e11"
      },
      "source": [
        "X = train.drop(columns=[\"Lead\"])\n",
        "y = train[\"Lead\"]\n",
        "\n",
        "kf = skl_ms.KFold(n_splits=5) # 2 for regular test/train split\n",
        "\n",
        "solver = [\"svd\", \"lsqr\", \"eigen\"]\n",
        "shrinkage = [\"auto\", None]\n",
        "store_covariance = [True, False]\n",
        "tol = [float(x) for x in np.linspace(start=1e-5, stop=1, num=20)]\n",
        "random_grid = {\n",
        "    'solver': solver,\n",
        "    'shrinkage': shrinkage,\n",
        "    'store_covariance': store_covariance,\n",
        "    'tol': tol\n",
        "}\n",
        "\n",
        "rd_gridQDA = {\n",
        "    'tol': tol\n",
        "}\n",
        "\n",
        "scores = {\"LDA\": [], \"QDA\": []}\n",
        "for train_idx, test_idx in kf.split(train):\n",
        "    x_train, x_val = X.iloc[train_idx,:], X.iloc[test_idx,:]\n",
        "    y_train, y_val = y.iloc[train_idx], y.iloc[test_idx]\n",
        "\n",
        "    LDA = skl_da.LinearDiscriminantAnalysis()\n",
        "    LDA_grid = GridSearchCV(estimator=LDA, param_grid=random_grid, cv=3, n_jobs=-1)\n",
        "    LDA_grid.fit(x_train, y_train)\n",
        "    scores[\"LDA\"].append(LDA_grid.score(x_val, y_val))\n",
        "\n",
        "    QDA = skl_da.QuadraticDiscriminantAnalysis()\n",
        "    QDA_grid = GridSearchCV(estimator=QDA, param_grid=rd_gridQDA, cv=3, n_jobs=-1)\n",
        "    QDA_grid.fit(x_train, y_train)\n",
        "    scores[\"QDA\"].append(QDA_grid.score(x_val, y_val))\n",
        "\n",
        "print(f\"Mean LDA on test data: {round(statistics.mean(scores['LDA'])*100, 1)}%\")\n",
        "print(f\"Mean QDA on test data: {round(statistics.mean(scores['QDA'])*100, 1)}%\\n\")\n",
        "\n",
        "plt.boxplot([scores[\"LDA\"], scores[\"QDA\"]])\n",
        "plt.xticks([1,2], [\"LDA\", \"QDA\"])\n",
        "plt.show()"
      ],
      "execution_count": 45,
      "outputs": [
        {
          "output_type": "stream",
          "name": "stdout",
          "text": [
            "Mean LDA on test data: 86.8%\n",
            "Mean QDA on test data: 85.7%\n",
            "\n"
          ]
        },
        {
          "output_type": "display_data",
          "data": {
            "image/png": "[encoded data removed]",
            "text/plain": [
              "<Figure size 432x288 with 1 Axes>"
            ]
          },
          "metadata": {
            "needs_background": "light"
          }
        }
      ]
    },
    {
      "cell_type": "markdown",
      "metadata": {
        "id": "mpNT9yIzx3gl"
      },
      "source": [
        "Did not give better result..."
      ]
    }
  ]
}